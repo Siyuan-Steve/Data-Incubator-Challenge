{
 "cells": [
  {
   "cell_type": "code",
   "execution_count": 25,
   "metadata": {},
   "outputs": [
    {
     "name": "stdout",
     "output_type": "stream",
     "text": [
      "3894\n"
     ]
    }
   ],
   "source": [
    "#Create Hash Map\n",
    "mpdict ={0:[6,9],1:[7,8,10],2:[4,9,11],3:[5,10],4:[2,10,13],5:[3,11,12,14],6:[0,8,13,15],\n",
    "        7:[1,9,14],8:[1,6,14],9:[0,2,7,15],10:[1,3,4,12],11:[2,5,13],12:[5,10],13:[4,6,11],14:[5,7,8],15:[6,9]}\n",
    "#Define function to record the sum of each step\n",
    "def step(N):\n",
    "    start = 0\n",
    "    steps = [0]\n",
    "    n = 0\n",
    "    while n<N:\n",
    "        signal = np.random.uniform(0,1,1)\n",
    "        l = len(mpdict[start])\n",
    "        p = math.floor(signal*l)\n",
    "        start = mpdict[start][p]\n",
    "        steps.append(start)\n",
    "        n += 1\n",
    "    return sum(steps)"
   ]
  },
  {
   "cell_type": "code",
   "execution_count": 59,
   "metadata": {},
   "outputs": [
    {
     "name": "stdout",
     "output_type": "stream",
     "text": [
      "100.000%"
     ]
    },
    {
     "data": {
      "text/plain": [
       "5.9818856435643566"
      ]
     },
     "execution_count": 59,
     "metadata": {},
     "output_type": "execute_result"
    },
    {
     "data": {
      "text/plain": [
       "3.74068348824113"
      ]
     },
     "execution_count": 59,
     "metadata": {},
     "output_type": "execute_result"
    }
   ],
   "source": [
    "#Simulate the T=16 situation\n",
    "s=0\n",
    "n=16\n",
    "numOfSim=10000000\n",
    "sumMod=[]\n",
    "for i in range(numOfSim):\n",
    "    sumNonMod.append(step(n))\n",
    "    if i%100==0: # See the process of the whole program\n",
    "        sys.stdout.write('\\r%.3f%%'%((i+100)*100/numOfSim))\n",
    "        sys.stdout.flush()\n",
    "    #Calculate the result\n",
    "np.mean([i%13 for i in sumNonMod])\n",
    "np.std([i%13 for i in sumNonMod])"
   ]
  },
  {
   "cell_type": "code",
   "execution_count": 61,
   "metadata": {},
   "outputs": [
    {
     "data": {
      "text/plain": [
       "0.0219108"
      ]
     },
     "execution_count": 61,
     "metadata": {},
     "output_type": "execute_result"
    }
   ],
   "source": [
    "sum([1 for i in sumNonMod if (i%65==0)])/10000000 "
   ]
  },
  {
   "cell_type": "code",
   "execution_count": 56,
   "metadata": {
    "scrolled": true
   },
   "outputs": [
    {
     "name": "stdout",
     "output_type": "stream",
     "text": [
      "100.000%"
     ]
    },
    {
     "data": {
      "text/plain": [
       "139.55383"
      ]
     },
     "execution_count": 56,
     "metadata": {},
     "output_type": "execute_result"
    },
    {
     "data": {
      "text/plain": [
       "81.927074293734549"
      ]
     },
     "execution_count": 56,
     "metadata": {},
     "output_type": "execute_result"
    }
   ],
   "source": [
    "#Simulate the T=512 situation\n",
    "s=0\n",
    "n=512\n",
    "numOfSim=100000\n",
    "sumNonMod=[]\n",
    "for i in range(numOfSim):\n",
    "    sumNonMod.append(step(n))\n",
    "    if i%100==0: # See the process of the whole program\n",
    "        sys.stdout.write('\\r%.3f%%'%((i+100)*100/numOfSim))\n",
    "        sys.stdout.flush()\n",
    "    #Calculate the result\n",
    "np.mean([i%311 for i in sumNonMod])\n",
    "np.std([i%311 for i in sumNonMod])"
   ]
  },
  {
   "cell_type": "code",
   "execution_count": 57,
   "metadata": {},
   "outputs": [
    {
     "data": {
      "text/plain": [
       "0.00342"
      ]
     },
     "execution_count": 57,
     "metadata": {},
     "output_type": "execute_result"
    }
   ],
   "source": [
    "sum([1 for i in sumNonMod if (i%7==0 and i%43==0)])/100000"
   ]
  }
 ],
 "metadata": {
  "kernelspec": {
   "display_name": "Python 3",
   "language": "python",
   "name": "python3"
  },
  "language_info": {
   "codemirror_mode": {
    "name": "ipython",
    "version": 3
   },
   "file_extension": ".py",
   "mimetype": "text/x-python",
   "name": "python",
   "nbconvert_exporter": "python",
   "pygments_lexer": "ipython3",
   "version": "3.6.2"
  }
 },
 "nbformat": 4,
 "nbformat_minor": 2
}
